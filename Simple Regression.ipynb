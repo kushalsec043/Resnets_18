{
 "cells": [
  {
   "cell_type": "markdown",
   "metadata": {},
   "source": [
    "# y = mx + b Simple Regression Part 1"
   ]
  },
  {
   "cell_type": "code",
   "execution_count": 1,
   "metadata": {},
   "outputs": [],
   "source": [
    "import matplotlib.pyplot as plt\n",
    "%matplotlib inline"
   ]
  },
  {
   "cell_type": "code",
   "execution_count": 2,
   "metadata": {},
   "outputs": [
    {
     "ename": "ModuleNotFoundError",
     "evalue": "No module named 'tensorflow'",
     "output_type": "error",
     "traceback": [
      "\u001b[1;31m---------------------------------------------------------------------------\u001b[0m",
      "\u001b[1;31mModuleNotFoundError\u001b[0m                       Traceback (most recent call last)",
      "\u001b[1;32m<ipython-input-2-7754771fbf55>\u001b[0m in \u001b[0;36m<module>\u001b[1;34m\u001b[0m\n\u001b[1;32m----> 1\u001b[1;33m \u001b[1;32mimport\u001b[0m \u001b[0mtensorflow\u001b[0m \u001b[1;32mas\u001b[0m \u001b[0mtf\u001b[0m\u001b[1;33m\u001b[0m\u001b[1;33m\u001b[0m\u001b[0m\n\u001b[0m\u001b[0;32m      2\u001b[0m \u001b[1;32mimport\u001b[0m \u001b[0mnumpy\u001b[0m \u001b[1;32mas\u001b[0m \u001b[0mnp\u001b[0m\u001b[1;33m\u001b[0m\u001b[1;33m\u001b[0m\u001b[0m\n\u001b[0;32m      3\u001b[0m \u001b[1;33m\u001b[0m\u001b[0m\n\u001b[0;32m      4\u001b[0m \u001b[0mx_data\u001b[0m \u001b[1;33m=\u001b[0m \u001b[0mnp\u001b[0m\u001b[1;33m.\u001b[0m\u001b[0mlinspace\u001b[0m\u001b[1;33m(\u001b[0m\u001b[1;36m0\u001b[0m\u001b[1;33m,\u001b[0m\u001b[1;36m10\u001b[0m\u001b[1;33m,\u001b[0m\u001b[1;36m10\u001b[0m\u001b[1;33m)\u001b[0m\u001b[1;33m+\u001b[0m\u001b[0mnp\u001b[0m\u001b[1;33m.\u001b[0m\u001b[0mrandom\u001b[0m\u001b[1;33m.\u001b[0m\u001b[0muniform\u001b[0m\u001b[1;33m(\u001b[0m\u001b[1;33m-\u001b[0m\u001b[1;36m1.5\u001b[0m\u001b[1;33m,\u001b[0m\u001b[1;36m1.5\u001b[0m\u001b[1;33m,\u001b[0m\u001b[1;36m10\u001b[0m\u001b[1;33m)\u001b[0m\u001b[1;33m\u001b[0m\u001b[1;33m\u001b[0m\u001b[0m\n\u001b[0;32m      5\u001b[0m \u001b[0my_label\u001b[0m \u001b[1;33m=\u001b[0m \u001b[0mnp\u001b[0m\u001b[1;33m.\u001b[0m\u001b[0mlinspace\u001b[0m\u001b[1;33m(\u001b[0m\u001b[1;36m0\u001b[0m\u001b[1;33m,\u001b[0m\u001b[1;36m10\u001b[0m\u001b[1;33m,\u001b[0m\u001b[1;36m10\u001b[0m\u001b[1;33m)\u001b[0m\u001b[1;33m+\u001b[0m\u001b[0mnp\u001b[0m\u001b[1;33m.\u001b[0m\u001b[0mrandom\u001b[0m\u001b[1;33m.\u001b[0m\u001b[0muniform\u001b[0m\u001b[1;33m(\u001b[0m\u001b[1;33m-\u001b[0m\u001b[1;36m1.5\u001b[0m\u001b[1;33m,\u001b[0m\u001b[1;36m1.5\u001b[0m\u001b[1;33m,\u001b[0m\u001b[1;36m10\u001b[0m\u001b[1;33m)\u001b[0m\u001b[1;33m\u001b[0m\u001b[1;33m\u001b[0m\u001b[0m\n",
      "\u001b[1;31mModuleNotFoundError\u001b[0m: No module named 'tensorflow'"
     ]
    }
   ],
   "source": [
    "import tensorflow as tf\n",
    "import numpy as np\n",
    "\n",
    "x_data = np.linspace(0,10,10)+np.random.uniform(-1.5,1.5,10)\n",
    "y_label = np.linspace(0,10,10)+np.random.uniform(-1.5,1.5,10)\n",
    "\n",
    "m  = tf.Variable(0.44)\n",
    "b = tf.Variable(0.87)\n",
    "\n",
    "error = 0"
   ]
  },
  {
   "cell_type": "code",
   "execution_count": null,
   "metadata": {},
   "outputs": [],
   "source": [
    "plt.plot(x_data,y_label,'green')"
   ]
  },
  {
   "cell_type": "code",
   "execution_count": null,
   "metadata": {},
   "outputs": [],
   "source": [
    "for x,y in zip(x_data,y_label):\n",
    "    y_hat = m*x + b\n",
    "    error +=(y-y_hat)**2"
   ]
  },
  {
   "cell_type": "code",
   "execution_count": null,
   "metadata": {},
   "outputs": [],
   "source": [
    "optimizer = tf.train.GradientDescentOptimizer(learning_rate=0.001)\n",
    "train = optimizer.minimize(error)"
   ]
  },
  {
   "cell_type": "code",
   "execution_count": null,
   "metadata": {},
   "outputs": [],
   "source": [
    "init = tf.global_variables_initializer()"
   ]
  },
  {
   "cell_type": "code",
   "execution_count": null,
   "metadata": {},
   "outputs": [],
   "source": [
    "with tf.Session() as sess:\n",
    "    \n",
    "    sess.run(init)\n",
    "    \n",
    "    training_steps = 1\n",
    "    \n",
    "    for i in range(training_steps):\n",
    "    \n",
    "        sess.run(train)\n",
    "    \n",
    "    final_slope,final_intercept = sess.run([m,b])\n"
   ]
  },
  {
   "cell_type": "code",
   "execution_count": null,
   "metadata": {},
   "outputs": [],
   "source": [
    "x_test = np.linspace(-1,11,10)\n",
    "y_pred_plot = final_slope*x_test + final_intercept\n",
    "\n",
    "plt.plot(x_test,y_pred_plot,'r')\n",
    "plt.plot(x_data,y_label,'*')"
   ]
  },
  {
   "cell_type": "markdown",
   "metadata": {},
   "source": [
    "# Tensor Flow Regression Part 01"
   ]
  },
  {
   "cell_type": "code",
   "execution_count": null,
   "metadata": {},
   "outputs": [],
   "source": [
    "import numpy as np\n",
    "import pandas as pd\n",
    "import matplotlib.pyplot as plt\n",
    "%matplotlib inline"
   ]
  },
  {
   "cell_type": "code",
   "execution_count": null,
   "metadata": {},
   "outputs": [],
   "source": [
    "import tensorflow as tf\n",
    "\n",
    "x_data = np.linspace(0.0,10.0,100000)\n",
    "noise = np.random.randn(len(x_data))"
   ]
  },
  {
   "cell_type": "markdown",
   "metadata": {},
   "source": [
    "# y = mx + b     b=5"
   ]
  },
  {
   "cell_type": "code",
   "execution_count": null,
   "metadata": {},
   "outputs": [],
   "source": [
    "y_true = (0.5*x_data)+5+noise\n",
    "x_df = pd.DataFrame(data=x_data,columns=['X data'])\n",
    "y_df = pd.DataFrame(data=y_true,columns=['Y'])\n",
    "my_data = pd.concat([x_df,y_df],axis=1)\n",
    "my_data.head()\n",
    "my_data.sample(n=250).plot(kind='scatter',x='X data',y='Y')"
   ]
  },
  {
   "cell_type": "code",
   "execution_count": null,
   "metadata": {},
   "outputs": [],
   "source": [
    "batch_size = 8\n",
    "m = tf.Variable(0.5)\n",
    "b = tf.Variable(1.0)\n",
    "\n",
    "xph = tf.placeholder(tf.float32,[batch_size])\n",
    "yph = tf.placeholder(tf.float32,[batch_size])\n",
    "\n",
    "y_model = m*xph+b\n",
    "error = tf.reduce_sum(tf.square(yph-y_model))\n",
    "\n",
    "optimizer = tf.train.GradientDescentOptimizer(learning_rate=0.001)\n",
    "train = optimizer.minimize(error)"
   ]
  },
  {
   "cell_type": "code",
   "execution_count": null,
   "metadata": {},
   "outputs": [],
   "source": [
    "init = tf.global_variables_initializer()"
   ]
  },
  {
   "cell_type": "code",
   "execution_count": null,
   "metadata": {},
   "outputs": [],
   "source": [
    "with tf.Session() as sess:\n",
    "    sess.run(init)\n",
    "    batches = 1000\n",
    "    \n",
    "    for i in range(batches):\n",
    "        rand_ind = np.random.randint(len(x_data),size = batch_size)\n",
    "        \n",
    "        feed = {xph:x_data[rand_ind],yph:y_true[rand_ind]}\n",
    "        sess.run(train,feed_dict=feed)\n",
    "        \n",
    "        model_m,model_b = sess.run([m,b])\n",
    "        \n",
    "        y_hat = x_data*model_m+model_b    \n",
    "        my_data.sample(250).plot(kind='scatter',x = 'X data',y = 'Y')\n",
    "        plt.plot(x_data,y_hat,'r')"
   ]
  },
  {
   "cell_type": "code",
   "execution_count": null,
   "metadata": {},
   "outputs": [],
   "source": [
    "feat_cols = [tf.feature_column.numeric_column('x',shape=[1])]\n",
    "estimator = tf.estimator.LinearRegressor(feature_columns = feat_cols)"
   ]
  },
  {
   "cell_type": "code",
   "execution_count": null,
   "metadata": {},
   "outputs": [],
   "source": [
    "from sklearn.model_selection import train_test_split\n",
    "x_train,x_eval,y_train,y_eval = train_test_split(x_data,y_true,test_size = 0.3,random_state=101)\n",
    "print(x_train.shape)"
   ]
  },
  {
   "cell_type": "code",
   "execution_count": null,
   "metadata": {},
   "outputs": [],
   "source": [
    "input_func = tf.estimator.inputs.numpy_input_fn({'x':x_train},y_train,batch_size = 8,num_epochs = None, shuffle=True)\n",
    "\n",
    "train_input_func = tf.estimator.inputs.numpy_input_fn({'x':x_train},y_train,batch_size = 8,num_epochs = 1000, shuffle=False)\n",
    "\n",
    "eval_input_func = tf.estimator.inputs.numpy_input_fn({'x':x_eval},y_eval,batch_size = 8,num_epochs = None, shuffle=True)\n",
    "\n",
    "estimator.train(input_fn = input_func, steps = 1000)\n",
    "\n",
    "train_metrics = estimator.evaluate(input_fn = train_input_func, steps = 1000)\n",
    "eval_metrics = estimator.evaluate(input_fn = train_input_func, steps = 1000)\n",
    "\n",
    "print('Training Data Metrics')\n",
    "print(train_metrics)"
   ]
  },
  {
   "cell_type": "code",
   "execution_count": null,
   "metadata": {},
   "outputs": [],
   "source": [
    "print('Eval Metrics')\n",
    "print(eval_metrics)"
   ]
  },
  {
   "cell_type": "code",
   "execution_count": null,
   "metadata": {},
   "outputs": [],
   "source": [
    "brand_new_data = np.linspace(0,10,10)\n",
    "input_fn_predict = tf.estimator.inputs.numpy_input_fn({'x':brand_new_data},shuffle = False)\n",
    "\n",
    "list(estimator.predict(input_fn = input_fn_predict))\n",
    "\n",
    "predictions = []\n",
    "\n",
    "for pred in estimator.predict(input_fn = input_fn_predict):\n",
    "    predictions.append(pred['predictions'])\n",
    "\n",
    "    predictions\n",
    "    \n",
    "    my_data.sample(n=250).plot(kind='scatter',x='X data',y='Y')\n",
    "    \n",
    "    #plt.plot(brand_new_data,predictions,'r')"
   ]
  }
 ],
 "metadata": {
  "kernelspec": {
   "display_name": "Python 3",
   "language": "python",
   "name": "python3"
  }
 },
 "nbformat": 4,
 "nbformat_minor": 2
}
